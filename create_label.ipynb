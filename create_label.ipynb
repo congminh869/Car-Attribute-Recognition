{
 "cells": [
  {
   "cell_type": "code",
   "execution_count": 1,
   "id": "ddd4c386",
   "metadata": {},
   "outputs": [],
   "source": [
    "import glob \n",
    "import numpy as np\n",
    "import os\n",
    "import json"
   ]
  },
  {
   "cell_type": "code",
   "execution_count": 3,
   "id": "a206bbbd",
   "metadata": {},
   "outputs": [
    {
     "name": "stdout",
     "output_type": "stream",
     "text": [
      "len(paths) =  119833\n"
     ]
    }
   ],
   "source": [
    "path = './dataset/data_set_minh10/train/'\n",
    "name = 'train'\n",
    "def import_car(path,name):\n",
    "    paths = []\n",
    "    my_list = os.listdir(path)\n",
    "    for i in range(len(my_list)):\n",
    "        for name_img in glob.glob(path+my_list[i]+'/*.jpg'):\n",
    "            paths.append(name_img)\n",
    "    print('len(paths) = ',len(paths))\n",
    "    group = 'train'\n",
    "    globals()[group]={}\n",
    "    globals()[group]['data']=[]\n",
    "    globals()[group]['ids'] = []\n",
    "    file_list = paths\n",
    "    count = 0\n",
    "    for name in file_list:\n",
    "        name_img = name.split('/')[-1]\n",
    "    #     print(name_img)\n",
    "        id = name_img.split('.')[0]\n",
    "#         print(id)\n",
    "        cam = 2\n",
    "    #     print(cam)\n",
    "        images = name\n",
    "    #     print(name)\n",
    "        if id not in globals()[group]['ids']:\n",
    "            globals()[group]['ids'].append(id)\n",
    "        globals()[group]['data'].append([images,globals()[group]['ids'].index(id),id,cam,name_img.split('.')[0]])\n",
    "#         if count == 10:\n",
    "#             break\n",
    "#         count+=1\n",
    "    return train\n",
    "\n",
    "train = import_car(path,name)\n",
    "with open('/home/minh/Documents/minh/mqsolutions/detec_color/Person-Attribute-Recognition-MarketDuke/dataset/data_set_minh10/img_val_colab.json', 'w') as f:\n",
    "    jsObj = json.dumps(train, indent=4)\n",
    "    f.write(jsObj)"
   ]
  },
  {
   "cell_type": "code",
   "execution_count": null,
   "id": "37109feb",
   "metadata": {},
   "outputs": [],
   "source": []
  }
 ],
 "metadata": {
  "kernelspec": {
   "display_name": "Python 3 (ipykernel)",
   "language": "python",
   "name": "python3"
  },
  "language_info": {
   "codemirror_mode": {
    "name": "ipython",
    "version": 3
   },
   "file_extension": ".py",
   "mimetype": "text/x-python",
   "name": "python",
   "nbconvert_exporter": "python",
   "pygments_lexer": "ipython3",
   "version": "3.7.11"
  }
 },
 "nbformat": 4,
 "nbformat_minor": 5
}
